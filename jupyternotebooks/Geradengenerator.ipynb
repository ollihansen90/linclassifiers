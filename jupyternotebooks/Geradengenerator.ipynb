{
  "nbformat": 4,
  "nbformat_minor": 0,
  "metadata": {
    "colab": {
      "provenance": [],
      "authorship_tag": "ABX9TyOyRddnccTWkGoNdpeHxEL9",
      "include_colab_link": true
    },
    "kernelspec": {
      "name": "python3",
      "display_name": "Python 3"
    },
    "language_info": {
      "name": "python"
    }
  },
  "cells": [
    {
      "cell_type": "markdown",
      "metadata": {
        "id": "view-in-github",
        "colab_type": "text"
      },
      "source": [
        "<a href=\"https://colab.research.google.com/github/ollihansen90/linclassifiers/blob/main/jupyternotebooks/Geradengenerator.ipynb\" target=\"_parent\"><img src=\"https://colab.research.google.com/assets/colab-badge.svg\" alt=\"Open In Colab\"/></a>"
      ]
    },
    {
      "cell_type": "code",
      "execution_count": null,
      "metadata": {
        "id": "ZEc8JfofwlPh"
      },
      "outputs": [],
      "source": [
        "!wget -nc https://raw.githubusercontent.com/inb-luebeck/CS4230-S/main/utils/utils_gerade.py\n",
        "from utils_gerade import gerade, setup\n",
        "\n",
        "func = lambda pt: w1*pt[0]+w2*pt[1]-theta\n",
        "\n",
        "pts = setup()\n",
        "\n",
        "print(\"Trage die (ganzzahligen) Gewichte und den Bias ein.\")\n",
        "w1 = input(\"w1: \")\n",
        "w2 = input(\"w2: \")\n",
        "theta = input(\"theta: \")\n",
        "\n",
        "gerade(w1, w2, theta)\n",
        "w1, w2, theta = float(w1), float(w2), float(theta)\n",
        "\n",
        "if func(pts[0])==0 and func(pts[1])==0:\n",
        "    print(\"Richtig! Sehr gut :-)\")\n",
        "else:\n",
        "    print(\"Das war leider nicht richtig :-(\")"
      ]
    }
  ]
}