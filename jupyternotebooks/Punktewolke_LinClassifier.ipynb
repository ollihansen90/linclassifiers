{
  "nbformat": 4,
  "nbformat_minor": 0,
  "metadata": {
    "colab": {
      "provenance": [],
      "authorship_tag": "ABX9TyP05JNa0w28bwHdOKgbHyfE",
      "include_colab_link": true
    },
    "kernelspec": {
      "name": "python3",
      "display_name": "Python 3"
    },
    "language_info": {
      "name": "python"
    }
  },
  "cells": [
    {
      "cell_type": "markdown",
      "metadata": {
        "id": "view-in-github",
        "colab_type": "text"
      },
      "source": [
        "<a href=\"https://colab.research.google.com/github/ollihansen90/linclassifiers/blob/main/jupyternotebooks/Punktewolke_LinClassifier.ipynb\" target=\"_parent\"><img src=\"https://colab.research.google.com/assets/colab-badge.svg\" alt=\"Open In Colab\"/></a>"
      ]
    },
    {
      "cell_type": "markdown",
      "source": [
        "# Punktewolke \"per Hand\" klassifizieren\n",
        "In diesem Notebook wurde ein linearer Klassifizierer implementiert, dessen Gewichte \"per Hand\" angepasst werden können."
      ],
      "metadata": {
        "id": "aB7SokR3Su-d"
      }
    },
    {
      "cell_type": "code",
      "execution_count": 10,
      "metadata": {
        "colab": {
          "base_uri": "https://localhost:8080/",
          "height": 448
        },
        "id": "B92J0oXpa1oA",
        "outputId": "12dcad5e-0017-4784-e345-a50d612da383"
      },
      "outputs": [
        {
          "output_type": "stream",
          "name": "stdout",
          "text": [
            "(40, 2)\n"
          ]
        },
        {
          "output_type": "display_data",
          "data": {
            "text/plain": [
              "<Figure size 640x480 with 1 Axes>"
            ],
            "image/png": "[encoded data removed]"
          },
          "metadata": {}
        }
      ],
      "source": [
        "import numpy as np\n",
        "import matplotlib.pyplot as plt\n",
        "\n",
        "g = lambda x, w, b: x@w-b\n",
        "y = lambda x, w, b: -(x*w[0]-b)/w[-1]\n",
        "\n",
        "def get_loss(data, label, w, b):\n",
        "    return np.sum((np.abs(np.sign(g(data, w, b))-label))/2)\n",
        "def get_params(data, label, w, b):\n",
        "    loss = get_loss(data, label, w, b)\n",
        "    while loss<3:\n",
        "        w += 0.5*np.random.randn(2)\n",
        "        b += 0.5*np.random.randn(1)\n",
        "        loss = get_loss(data, label, w, b)\n",
        "        #print(loss)\n",
        "    return w, b\n",
        "\n",
        "n1 = 20\n",
        "n2 = 20\n",
        "data = np.random.randn(n1+n2,2)\n",
        "label = np.array(n1*[1]+n2*[-1])\n",
        "data[:n1] += np.array([2,2])\n",
        "data[n2:] += np.array([-2,-1])\n",
        "\n",
        "data = np.array([\n",
        "    [1.,1.],\n",
        "    [1.1,1.1],\n",
        "    [1.2,1.1],\n",
        "    [1.1,0.9],\n",
        "    [0.8,0.8],\n",
        "    [.9,1.1],\n",
        "    [-1.,1.],\n",
        "    [-1.,.9],\n",
        "    [-1.1,.8],\n",
        "    [-.9,1.],\n",
        "    [-.8,1.],\n",
        "    [-1.1,1.1],\n",
        "])\n",
        "label = np.array(6*[1]+6*[-1])\n",
        "\n",
        "data = 1.5*np.random.randn(n1+n2,2)\n",
        "label = np.array(n1*[1]+n2*[-1])\n",
        "data[:n1] += np.array([2,2])\n",
        "data[n2:] += np.array([-2,-1])\n",
        "print(data.shape)\n",
        "w = np.array([4.,3.])\n",
        "b = 1.\n",
        "out = g(data,w,b)\n",
        "label = np.sign(out)\n",
        "# data[:n1] = data[np.argsort(np.abs(out[:n1]))]\n",
        "# label[:3] *=-1\n",
        "w, b = get_params(data, label, w, b)\n",
        "plt.figure()\n",
        "plt.plot(data[label==1,0], data[label==1,1], \".\")\n",
        "plt.plot(data[label==-1,0], data[label==-1,1], \".\")\n",
        "x1, x2 = plt.gca().get_xbound()\n",
        "y1, y2 = plt.gca().get_ybound()\n",
        "plt.xlim([x1,x2])\n",
        "plt.ylim([y1,y2])\n",
        "#print(x1,x2)\n",
        "plt.plot([x1, x2], [y(x1, w, b), y(x2, w, b)])\n",
        "plt.show()"
      ]
    },
    {
      "cell_type": "code",
      "source": [
        "np.save(\"data.npy\", data)\n",
        "np.save(\"label.npy\", label)\n",
        "print(w, b)"
      ],
      "metadata": {
        "colab": {
          "base_uri": "https://localhost:8080/"
        },
        "id": "zPa-1WU0lx63",
        "outputId": "a2baa665-fd19-4a88-ce31-d2f10caaa465"
      },
      "execution_count": 7,
      "outputs": [
        {
          "output_type": "stream",
          "name": "stdout",
          "text": [
            "[ 9.09822959 -0.90542487] [1.3910449]\n"
          ]
        }
      ]
    },
    {
      "cell_type": "markdown",
      "source": [
        "## Gewichte anpassen\n",
        "Im folgenden Notebook können Gewichte für einen linearen Klassifizierer angepasst werden.\n",
        "\n",
        "*   `ww`: Gewichtsvektor mit zwein Einträgen\n",
        "*   `bb`: Skalar für den Bias\n",
        "\n",
        "\n",
        "\n",
        "Ziel ist es, die beiden Klassen voneinander zu trennen (sofern das möglich ist)."
      ],
      "metadata": {
        "id": "BDRfh-mhUNeC"
      }
    },
    {
      "cell_type": "code",
      "source": [
        "# --- Hier können die Gewichte angepasst werden ---\n",
        "ww = [3,-1]\n",
        "bb = -1\n",
        "# -------------------------------------------------\n",
        "\n",
        "plt.figure()\n",
        "plt.plot(data[label==1,0], data[label==1,1], \".\")\n",
        "plt.plot(data[label==-1,0], data[label==-1,1], \".\")\n",
        "x1, x2 = plt.gca().get_xbound()\n",
        "y1, y2 = plt.gca().get_ybound()\n",
        "plt.xlim([x1,x2])\n",
        "plt.ylim([y1,y2])\n",
        "#print(x1,x2)\n",
        "plt.plot([x1, x2], [y(x1, ww, bb), y(x2, ww, bb)])\n",
        "plt.show()"
      ],
      "metadata": {
        "colab": {
          "base_uri": "https://localhost:8080/",
          "height": 430
        },
        "id": "m6t5Xq6yl_dp",
        "outputId": "2670214d-2493-479e-a651-cc64c484a0a8"
      },
      "execution_count": 20,
      "outputs": [
        {
          "output_type": "display_data",
          "data": {
            "text/plain": [
              "<Figure size 640x480 with 1 Axes>"
            ],
            "image/png": "[encoded data removed]"
          },
          "metadata": {}
        }
      ]
    }
  ]
}