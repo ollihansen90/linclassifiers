{
  "nbformat": 4,
  "nbformat_minor": 0,
  "metadata": {
    "kernelspec": {
      "display_name": "Python 3",
      "language": "python",
      "name": "python3"
    },
    "language_info": {
      "codemirror_mode": {
        "name": "ipython",
        "version": 3
      },
      "file_extension": ".py",
      "mimetype": "text/x-python",
      "name": "python",
      "nbconvert_exporter": "python",
      "pygments_lexer": "ipython3",
      "version": "3.6.6"
    },
    "colab": {
      "provenance": [],
      "include_colab_link": true
    }
  },
  "cells": [
    {
      "cell_type": "markdown",
      "metadata": {
        "id": "view-in-github",
        "colab_type": "text"
      },
      "source": [
        "<a href=\"https://colab.research.google.com/github/ollihansen90/linclassifiers/blob/main/jupyternotebook/Neuroinformatik_exercise_1.ipynb\" target=\"_parent\"><img src=\"https://colab.research.google.com/assets/colab-badge.svg\" alt=\"Open In Colab\"/></a>"
      ]
    },
    {
      "cell_type": "markdown",
      "metadata": {
        "id": "X0URiUMa0ld1"
      },
      "source": [
        "# Exercise 1: Visualization of Linear Classifiers"
      ]
    },
    {
      "cell_type": "markdown",
      "metadata": {
        "id": "nqkwoGlI0ld5"
      },
      "source": [
        "**Note**: Please insert the names of all participating students:\n",
        "1.\n",
        "2.\n",
        "3."
      ]
    },
    {
      "cell_type": "markdown",
      "metadata": {
        "id": "6_Ss5BGT0ld8"
      },
      "source": [
        "## Preamble\n",
        "The following code downloads and imports all necessary files and modules into the virtual machine of Colab. Please make sure to execute it before solving this exercise. This mandatory preamble will be found on all exercise sheets."
      ]
    },
    {
      "cell_type": "code",
      "metadata": {
        "id": "uBdSCvi10ld_"
      },
      "source": [
        "import sys, os\n",
        "if 'google.colab' in sys.modules:\n",
        "  if os.getcwd() == '/content':\n",
        "    !git clone 'https://github.com/inb-uni-luebeck/cs4405.git'\n",
        "    os.chdir('cs4405')\n",
        "\n",
        "import numpy as np\n",
        "from matplotlib import pyplot as plt\n",
        "from utils import utils_1 as utils"
      ],
      "execution_count": null,
      "outputs": []
    },
    {
      "cell_type": "markdown",
      "metadata": {
        "id": "q7q9-MrA0leS"
      },
      "source": [
        "## Exercise 1.1: Data visualization\n",
        "The *rows* in matrix `samples` represent $L$ vectors $\\boldsymbol{x}_{i} \\in \\mathbb{R}^{1 \\times 2}$. Their corresponding class labels $s_i \\in \\left\\{ -1, 1 \\right\\}$ are found in `labels` with:\n",
        "\n",
        "$$\n",
        "s_i = \\left\\{\n",
        "        \\begin{array}{rl}\n",
        "            1 & \\mbox{, if } \\boldsymbol{x}_{i} \\; \\text{belongs to class 'blue dots'}\\\\\n",
        "            -1 & \\mbox{, if } \\boldsymbol{x}_{i} \\; \\text{belongs to class 'red dots'}\n",
        "        \\end{array}\n",
        "        \\right.\n",
        "$$\n",
        "**Tasks**:\n",
        "* Visualize the `samples` according to the `labels` (see `help(plt.plot)`) as blue and red dots.\n",
        "\n",
        "**Programming Hints**:\n",
        "* Note that for all exercises we use *row vectors* instead of *column vectors* for convenience with Python.\n",
        "* To enforce equal axis scaling (i.e. make circles circular), use e.g. `plt.axis('scaled')`"
      ]
    },
    {
      "cell_type": "code",
      "metadata": {
        "id": "tODd-I-k0leV"
      },
      "source": [
        "# TODO: implement the function to plot the data\n",
        "def plot_data(samples, labels):\n",
        "  pass\n",
        "\n",
        "samples, labels = utils.load_data('data/data_1.npz')\n",
        "plot_data(samples, labels)"
      ],
      "execution_count": null,
      "outputs": []
    },
    {
      "cell_type": "markdown",
      "metadata": {
        "id": "VEc1lPQe0lef"
      },
      "source": [
        "## Exercise 1.2: A linear model of a neuron\n",
        "We are now looking at a linear model of a neuron without temporal dynamics. In this model, the neuron computes the weighted sum of the `sample` $\\boldsymbol{x}_{i} \\in \\mathbb{R}^{1 \\times 2}$ with `weights` $\\boldsymbol{w} \\in \\mathbb{R}^{1 \\times 2}$ and compares this sum to a scalar `threshold` $\\theta \\in \\mathbb{R}$. The scalar output value $y_{i}\\left( \\boldsymbol{x}_{i} \\right) \\in \\left\\{ -1, 1 \\right\\}$, i.e. the `classification` of the neuron, is calculated as follows:\n",
        "\n",
        "$$\n",
        "\\begin{equation}\n",
        "    y_{i} \\left( \\boldsymbol{x}_{i} \\right) = \\sigma \\left( \\boldsymbol{x}_{i} \\boldsymbol{w}^{T} - \\theta \\right)\n",
        "\\end{equation}\n",
        "$$\n",
        "\n",
        "where\n",
        "\n",
        "$$\n",
        "\\begin{equation}\n",
        "    \\sigma(x) =\n",
        "        \\left\\{\n",
        "            \\begin{array}{rl}\n",
        "                 1, & \\text{if } x\\geq 0 \\\\\n",
        "                -1, & \\text{if } x<0\n",
        "            \\end{array}\n",
        "        \\right.\n",
        "\\end{equation}\n",
        "$$\n",
        "\n",
        "**Tasks**:\n",
        "* Implement a Python function `neuron_classify(samples, weights, threshold)` that uses given `weights` $\\boldsymbol{w}$ and `threshold` $\\theta$ to compute the `classification` $y_i \\left( \\boldsymbol{x}_{i} \\right)$ for each `sample` $\\boldsymbol{x}_{i}$ (see `help(np.matmul)`). The $L$-dimensional output vector $\\boldsymbol{y}$ should contain the `classifications` for all `samples` $\\boldsymbol{x}_{i}$, $i = 1, \\dots, L$.\n",
        "\n",
        "**Programming Hints**:\n",
        "* Note that each `sample` represents a *row* in `samples` with the shape `(2,)`.\n",
        "* Use broadcasting and try to avoid using `for` loops.\n",
        "* Try different values for $\\boldsymbol{w}$ and $\\theta$ and visualize the results.\n",
        "\n",
        "**Questions**:\n",
        "1. What is the geometrical influence of $\\boldsymbol{w}$ and $\\theta$ on the classification? What is the relation between the direction of $\\boldsymbol{w}$ and the class assignments? What is happening, when you invert the direction of $\\boldsymbol{w}$?\n",
        "2. How do you need to choose $\\boldsymbol{w}$ and $\\theta$ to get `classifications` for the `samples` that are equal to the real class `labels`?\n",
        "\n",
        "**Answers**:\n",
        "1.\n",
        "2."
      ]
    },
    {
      "cell_type": "code",
      "metadata": {
        "id": "GqtA3UlK0lei"
      },
      "source": [
        "# TODO: function to classify the samples\n",
        "def neuron_classify(samples, weights, threshold):\n",
        "  pass\n",
        "\n",
        "# TODO: define the weight vector\n",
        "weights = np.array()\n",
        "\n",
        "# TODO: define the scalar threshold\n",
        "threshold = np.array()\n",
        "\n",
        "samples, labels = utils.load_data('data/data_1.npz')\n",
        "classifications = neuron_classify(samples, weights, threshold)\n",
        "plot_data(samples, classifications)"
      ],
      "execution_count": null,
      "outputs": []
    },
    {
      "cell_type": "markdown",
      "metadata": {
        "id": "Or7ZSoja0leq"
      },
      "source": [
        "## Exercise 1.3: Visualization of a neuron's classification boundary\n",
        "For $d$-dimensional inputs, the `weights` $\\boldsymbol{w}$ and `threshold` $\\theta$ of the neuron model in Exercise 1.2 characterize a linear ($d$-1)-dimensional hyperplane in $\\mathbb{R}^{d}$ as a classification line.\n",
        "\n",
        "**Tasks**:\n",
        "* For $\\mathbb{R}^{2}$, implement a Python function `plot_classline(weights, threshold)` that plots the exact classification line in an existing Matplotlib figure.\n",
        "* Combine `plot_classline(weights, threshold)` and the previously implemented function `plot_data(samples, labels)` for the data points from `data_1.npz` to check whether your implementation is correct.\n",
        "\n",
        "**Programming Hints**:\n",
        "* First of all: How is the classification line defined? Think of what formula the points located on the line have to fulfill.\n",
        "* A line is defined by two distinct points. The intersection points of the line with the bounding box, i.e. `x_min`, `x_max`, `y_min`, `y_max`, of the figure could be a good choice (see `help(plt.gca)`, `help(plt.Axes.get_xbound)` and `help(plt.Axes.get_ybound)`).\n",
        "* Try to avoid a `ZeroDivisionError`."
      ]
    },
    {
      "cell_type": "code",
      "metadata": {
        "id": "W_ICjMs00les"
      },
      "source": [
        "# TODO: implement the function to plot the classline\n",
        "def plot_classline(weights, threshold):\n",
        "  pass\n",
        "\n",
        "# TODO: define the weight vector\n",
        "weights = np.array()\n",
        "\n",
        "# TODO: define the scalar threshold\n",
        "threshold = np.array()\n",
        "\n",
        "samples, labels = utils.load_data('data/data_1.npz')\n",
        "plot_data(samples, labels)\n",
        "plot_classline(weights, threshold)"
      ],
      "execution_count": null,
      "outputs": []
    }
  ]
}
