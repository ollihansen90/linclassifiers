{
 "cells": [
  {
   "cell_type": "markdown",
   "metadata": {
    "colab_type": "text",
    "id": "view-in-github"
   },
   "source": [
    "<a href=\"https://colab.research.google.com/github/ollihansen90/linclassifiers/blob/main/Futureskills/LinClass_07.ipynb\" target=\"_parent\"><img src=\"https://colab.research.google.com/assets/colab-badge.svg\" alt=\"Open In Colab\"/></a>"
   ]
  },
  {
   "cell_type": "markdown",
   "metadata": {
    "id": "QbPcHvliKy3j"
   },
   "source": [
    "# Kapitel 7 - Lineare Klassifikation\n",
    "\n",
    "## Setup"
   ]
  },
  {
   "cell_type": "code",
   "execution_count": null,
   "metadata": {
    "id": "gYU7VTvkXQjg"
   },
   "outputs": [],
   "source": [
    "# Dieser Block entfällt im Jupyter-Hub, weil die Daten schon auf dem Server liegt\n",
    "!wget -nc -q https://raw.githubusercontent.com/ollihansen90/linclassifiers/main/Futureskills/utils/utils.zip\n",
    "!unzip -qq utils.zip -d utils"
   ]
  },
  {
   "cell_type": "code",
   "execution_count": 1,
   "metadata": {
    "id": "5EcUHCCDL3L6"
   },
   "outputs": [],
   "source": [
    "import numpy as np\n",
    "from IPython.display import clear_output\n",
    "import time\n",
    "\n",
    "from utils.utils_linclass_07 import draw1, draw2"
   ]
  },
  {
   "cell_type": "markdown",
   "metadata": {
    "id": "yknOyupBuRn2"
   },
   "source": [
    "In diesem Notebook soll das erworbene Wissen aus Kapitel 7 angewendet werden.\n",
    "\n",
    "## Aufgabe 1 - Gerade durch zwei Punkte\n",
    "Gegeben sind zwei Punkte, durch die eine Gerade verlaufen soll. Die Gerade hat die Form $g(\\vec{x})=\\vec{w}\\odot\\vec{x}-\\theta$ mit Gewichtsvektor $\\vec{w}$ und Schwellenwert $\\theta$.\n",
    "\n",
    "Starten Sie den folgenden Codeblock und geben Sie einen Gewichtsvektor, sowie einen Schwellenwert ein. Ein Vektor wird hierbei komponentenweise mit Komma getrennt eingegeben. Der Vektor $\\vec{x}=[1,-1]$ wäre beispielsweise `1,-1`. Beim Threshold handelt es sich nur um eine einzelne Zahl. Zahlen mit Nachkommastellen müssen mit Punkt geschrieben werden (statt beispielsweise `-2,3` ist die Eingabe `-2.3`)."
   ]
  },
  {
   "cell_type": "code",
   "execution_count": null,
   "metadata": {
    "id": "bQWMuQjguTab"
   },
   "outputs": [
    {
     "data": {
      "image/png": "[encoded data removed]",
      "text/plain": [
       "<Figure size 700x700 with 1 Axes>"
      ]
     },
     "metadata": {},
     "output_type": "display_data"
    },
    {
     "name": "stdout",
     "output_type": "stream",
     "text": [
      "Das stimmt leider noch nicht... Gewichtsvektor [2.0,7.0] und Schwellenwert 1.0 sind nicht richtig.\n",
      "Geben Sie einen Gewichtsvektor ein. (Zum Beispiel 1,-1)\n"
     ]
    }
   ],
   "source": [
    "draw1(first=True)\n",
    "\n",
    "done = False\n",
    "while not done:\n",
    "    print(\"Geben Sie einen Gewichtsvektor ein. (Zum Beispiel 1,-1)\")\n",
    "    time.sleep(0.5)\n",
    "    test = input(\"Gewichtsvektor: \")\n",
    "    gewichtsvektor = np.array([float(s) for s in test.split(\",\")])\n",
    "    print(\"Geben Sie einen Schwellenwert ein. (Zum Beispiel -0.5)\")\n",
    "    time.sleep(0.5)\n",
    "    test = input(\"Schwellenwert: \")\n",
    "    theta = float(test)\n",
    "\n",
    "    clear_output()\n",
    "    done = draw1(gewichtsvektor, theta)\n"
   ]
  },
  {
   "cell_type": "markdown",
   "metadata": {
    "id": "qL3yDnPOUbip"
   },
   "source": [
    "## Aufgabe 2: Punktewolken\n",
    "Genau wie in Aufgabe 1 soll hier eine Gerade in der Form $g(\\vec{x})=\\vec{w}\\odot\\vec{x}-\\theta$ mit Gewichtsvektor $\\vec{w}$ und Schwellenwert $\\theta$ aufgestellt werden. Gegeben werden zwei Punktewolken, die linear getrennt werden sollen. Die blaue Punktewolke soll die Klassenzugehörigkeit `+1` bekommen, die orangene Punktewolke erhält Klassenzugehörigkeit `-1`.\n",
    "\n",
    "Starten Sie den folgenden Codeblock und geben Sie einen Gewichtsvektor, sowie einen Schwellenwert ein. Ein Vektor wird hierbei komponentenweise mit Komma getrennt eingegeben. Der Vektor $\\vec{x}=[1,-1]$ wäre beispielsweise `1,-1`. Beim Threshold handelt es sich nur um eine einzelne Zahl. Zahlen mit Nachkommastellen müssen mit Punkt geschrieben werden (statt beispielsweise `-2,3` ist die Eingabe `-2.3`)."
   ]
  },
  {
   "cell_type": "code",
   "execution_count": null,
   "metadata": {
    "id": "XGcjTENQUasT"
   },
   "outputs": [],
   "source": [
    "draw2(first=True)\n",
    "\n",
    "done = False\n",
    "while not done:\n",
    "    print(\"Geben Sie einen Gewichtsvektor ein. (Zum Beispiel 1,-1)\")\n",
    "    time.sleep(0.5)\n",
    "    test = input(\"Gewichtsvektor: \")\n",
    "    gewichtsvektor = np.array([float(s) for s in test.split(\",\")])\n",
    "    print(\"Geben Sie einen Schwellenwert ein. (Zum Beispiel -0.5)\")\n",
    "    time.sleep(0.5)\n",
    "    test = input(\"Schwellenwert: \")\n",
    "    theta = float(test)\n",
    "\n",
    "    clear_output()\n",
    "    done = draw2(gewichtsvektor, theta)\n"
   ]
  }
 ],
 "metadata": {
  "colab": {
   "include_colab_link": true,
   "provenance": []
  },
  "kernelspec": {
   "display_name": "Python 3 (ipykernel)",
   "language": "python",
   "name": "python3"
  },
  "language_info": {
   "codemirror_mode": {
    "name": "ipython",
    "version": 3
   },
   "file_extension": ".py",
   "mimetype": "text/x-python",
   "name": "python",
   "nbconvert_exporter": "python",
   "pygments_lexer": "ipython3",
   "version": "3.12.7"
  }
 },
 "nbformat": 4,
 "nbformat_minor": 4
}
