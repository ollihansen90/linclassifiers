{
  "nbformat": 4,
  "nbformat_minor": 0,
  "metadata": {
    "colab": {
      "provenance": [],
      "authorship_tag": "ABX9TyNTDS4t8QQ7CXaLA7Y7Uyrg",
      "include_colab_link": true
    },
    "kernelspec": {
      "name": "python3",
      "display_name": "Python 3"
    },
    "language_info": {
      "name": "python"
    }
  },
  "cells": [
    {
      "cell_type": "markdown",
      "metadata": {
        "id": "view-in-github",
        "colab_type": "text"
      },
      "source": [
        "<a href=\"https://colab.research.google.com/github/ollihansen90/linclassifiers/blob/main/Futureskills/LinClass_07.ipynb\" target=\"_parent\"><img src=\"https://colab.research.google.com/assets/colab-badge.svg\" alt=\"Open In Colab\"/></a>"
      ]
    },
    {
      "cell_type": "markdown",
      "source": [
        "# Kapitel 7 - Lineare Klassifikation\n",
        "\n",
        "## Setup"
      ],
      "metadata": {
        "id": "QbPcHvliKy3j"
      }
    },
    {
      "cell_type": "code",
      "execution_count": null,
      "metadata": {
        "id": "TVW6vXBRKsiq"
      },
      "outputs": [],
      "source": [
        "# Todo: utils-Datei anlegen, die am Anfang geladen wird\n",
        "# utils_linclass.py\n",
        "import numpy as np\n",
        "import matplotlib.pyplot as plt\n",
        "import matplotlib.colors as mcolors\n",
        "\n",
        "from IPython.display import display\n",
        "from PIL import Image\n",
        "from IPython.display import Image as Image_\n",
        "\n",
        "class Koordinatensystem():\n",
        "    def __init__(self, config={}):\n",
        "        self.config = {\n",
        "            \"size\": 11,\n",
        "            \"grid_alpha\": 0.1,\n",
        "            }\n",
        "        self.config.update(config)\n",
        "\n",
        "    def draw(self):\n",
        "        size = self.config[\"size\"]\n",
        "        grid_alpha = self.config[\"grid_alpha\"]\n",
        "        plt.plot([0,0], [-size,size], \"k\")\n",
        "        plt.plot([-size,size], [0,0], \"k\")\n",
        "        for t in range(1,size):\n",
        "            plt.plot([t,t], [-size,size], \"k\", alpha=grid_alpha)\n",
        "            plt.plot([-t,-t], [-size,size], \"k\", alpha=grid_alpha)\n",
        "            plt.plot([-size,size], [t,t], \"k\", alpha=grid_alpha)\n",
        "            plt.plot([-size,size], [-t,-t], \"k\", alpha=grid_alpha)\n",
        "            if t%2==0:\n",
        "                plt.plot([t,t], [-0.1,0.1], \"k\")\n",
        "                plt.text(t,-0.5, str(t), {\"horizontalalignment\":\"center\", \"verticalalignment\":\"center\"})\n",
        "                plt.plot([-t,-t], [-0.1,0.1], \"k\")\n",
        "                plt.text(-t,-0.5, str(-t), {\"horizontalalignment\":\"center\", \"verticalalignment\":\"center\"})\n",
        "                plt.plot([-0.1,0.1], [t,t], \"k\")\n",
        "                plt.text(-0.4, -t, str(-t), {\"horizontalalignment\":\"right\", \"verticalalignment\":\"center\"})\n",
        "                plt.plot([-0.1,0.1], [-t,-t], \"k\")\n",
        "                plt.text(-0.4, t, str(t), {\"horizontalalignment\":\"right\", \"verticalalignment\":\"center\"})\n",
        "        plt.plot([-0.1,0,0.1], [size-0.2,size,(size-0.2)], \"k\")\n",
        "        plt.plot([(size-0.2),size,(size-0.2)], [-0.1,0,0.1], \"k\")\n",
        "        plt.plot([-0.1,0,0.1], [-(size-0.2),-size,-(size-0.2)], \"k\")\n",
        "        plt.plot([-(size-0.2),-size,-(size-0.2)], [-0.1,0,0.1], \"k\")\n",
        "        plt.text(-0.4, (size-0.2), \"y\", {\"horizontalalignment\":\"center\", \"verticalalignment\":\"center\"})\n",
        "        plt.text(size, -0.4, \"x\", {\"horizontalalignment\":\"center\", \"verticalalignment\":\"center\"})\n",
        "\n",
        "class Vektorfolge():\n",
        "    def __init__(self, veclist, colorlist=list(mcolors.TABLEAU_COLORS.keys()), alphalist=None):\n",
        "        self.veclist = veclist\n",
        "        self.colorlist = colorlist\n",
        "        self.alphalist = [1]*len(veclist) if alphalist==None else alphalist\n",
        "        self.config = {\"angles\":'xy', \"scale_units\":'xy', \"scale\":1, \"width\":0.005, \"zorder\":2}\n",
        "\n",
        "    def draw(self):\n",
        "        plt.quiver(0,0,*self.veclist[0],**self.config, color=self.colorlist[0], alpha=self.alphalist[0])\n",
        "        v = self.veclist[0].copy()\n",
        "        for i in range(1, len(self.veclist)):\n",
        "            plt.quiver(\n",
        "                *v,\n",
        "                *self.veclist[(i)],\n",
        "                **self.config,\n",
        "                color=self.colorlist[(i)%len(self.colorlist)],\n",
        "                alpha=self.alphalist[i]\n",
        "                )\n",
        "            v += self.veclist[i].copy()\n",
        "\n",
        "class Gerade():\n",
        "    def __init__(self, aufpunkt, richtung):\n",
        "        assert aufpunkt.shape==np.zeros(2).shape, \"Der Vektor für den Aufpunkt hat nicht die richtige Form.\"\n",
        "        assert richtung.shape==np.zeros(2).shape, \"Der Vektor für die Richtung hat nicht die richtige Form.\"\n",
        "        assert np.sum(np.abs(richtung))>0, \"Der Vektor darf nicht [0,0] sein.\"\n",
        "        self.aufpunkt = aufpunkt\n",
        "        self.richtung = richtung\n",
        "\n",
        "    def draw(self, col=\"tab:blue\"):\n",
        "        size = 11\n",
        "        ecke1 = self.aufpunkt.copy()\n",
        "        while np.max(np.abs(ecke1))<=size:\n",
        "            ecke1 += self.richtung\n",
        "        ecke2 = self.aufpunkt.copy()\n",
        "        while np.max(np.abs(ecke2))<=size:\n",
        "            ecke2 -= self.richtung\n",
        "        ecken = np.stack([ecke1, ecke2])\n",
        "        plt.plot(ecken[:,0], ecken[:,1], col)\n",
        "\n",
        "    def on_gerade(self, pt):\n",
        "        p = pt.copy().astype(float)\n",
        "        p -= self.aufpunkt\n",
        "        if np.sum(p**2)==0:\n",
        "            return True\n",
        "        p /= np.linalg.norm(p)\n",
        "        return np.abs((self.richtung/np.linalg.norm(self.richtung))@p)>1-1e-6\n",
        "\n",
        "def generate_data():\n",
        "    np.random.seed(1)\n",
        "\n",
        "    N = 100\n",
        "    data = 3*np.random.randn(N,2)\n",
        "    data[:N//2] += np.array([-4,6])\n",
        "    data[N//2:] += np.array([2,-8])\n",
        "    data = np.column_stack([data, -np.ones(N)])\n",
        "    label = np.array(N//2*[1]+N//2*[-1])\n",
        "\n",
        "    # Permutiere Daten\n",
        "    perm = np.random.permutation(len(label))\n",
        "    data = data[perm]\n",
        "    label = label[perm]\n",
        "\n",
        "    return data, label\n",
        "\n",
        "def show_vid(vid):\n",
        "    every = max((len(vid)//50, 1))\n",
        "    vid = np.stack(vid[::every])\n",
        "    vid = [Image.fromarray(img) for img in vid]\n",
        "    vid[0].save(\"array.gif\", save_all=True, append_images=vid[1:], duration=50, loop=0)\n",
        "\n",
        "    with open('/content/array.gif','rb') as f:\n",
        "        display(Image_(data=f.read(), format='gif'))"
      ]
    },
    {
      "cell_type": "code",
      "source": [
        "# Todo: utils-Datei anlegen, die am Anfang geladen wird\n",
        "# utils_linclass_07.py\n",
        "def draw1(gewichtsvektor=np.ones(2), theta=0, first=False):\n",
        "    data = np.array([[3,6],[-2,7]])\n",
        "\n",
        "    size = 11\n",
        "    config = {\"size\": size}\n",
        "    koordinatensystem = Koordinatensystem(config)\n",
        "    #aufpunkt = # theta = normal@aufpunkt = n1a1+n2a2\n",
        "    if gewichtsvektor[1]==0:\n",
        "        aufpunkt = np.array([(theta-gewichtsvektor[1])/gewichtsvektor[0],1])\n",
        "    else:\n",
        "        aufpunkt = np.array([1,(theta-gewichtsvektor[0])/gewichtsvektor[1]])\n",
        "    gerade = Gerade(aufpunkt, gewichtsvektor[::-1]*np.array([1,-1]))\n",
        "    vec = Vektorfolge([aufpunkt, gewichtsvektor], [\"blue\", \"tab:green\"], alphalist=[0,1])\n",
        "\n",
        "    plt.figure(figsize=[7,7])\n",
        "    koordinatensystem.draw()\n",
        "    if not first:\n",
        "        gerade.draw()\n",
        "        vec.draw()\n",
        "    plt.plot(data[:,0], data[:,1], \"ro\", markersize=5)\n",
        "    plt.axis(\"equal\");plt.xlim([-size,size]);plt.ylim([-size,size]);plt.axis(\"off\")\n",
        "    plt.show()\n",
        "    #print(data)\n",
        "    if not first:\n",
        "        if gerade.on_gerade(data[0]) and gerade.on_gerade(data[1]):\n",
        "            print(f\"Sehr gut! Gewichtsvektor [{gewichtsvektor[0]},{gewichtsvektor[1]}] und  Schwellenwert {theta} sind korrekt!\")\n",
        "            return True\n",
        "        else:\n",
        "            print(f\"Das stimmt leider noch nicht... Gewichtsvektor [{gewichtsvektor[0]},{gewichtsvektor[1]}] und Schwellenwert {theta} sind nicht richtig.\")\n",
        "            return False\n",
        "\n",
        "def draw2(gewichtsvektor=np.ones(2), theta=0, first=False):\n",
        "    data, label = generate_data()\n",
        "\n",
        "    size = 11\n",
        "    config = {\"size\": size}\n",
        "    koordinatensystem = Koordinatensystem(config)\n",
        "    #aufpunkt = # theta = normal@aufpunkt = n1a1+n2a2\n",
        "    if gewichtsvektor[1]==0:\n",
        "        aufpunkt = np.array([(theta-gewichtsvektor[1])/gewichtsvektor[0],1])\n",
        "    else:\n",
        "        aufpunkt = np.array([1,(theta-gewichtsvektor[0])/gewichtsvektor[1]])\n",
        "    gerade = Gerade(aufpunkt, gewichtsvektor[::-1]*np.array([1,-1]))\n",
        "    vec = Vektorfolge([aufpunkt, gewichtsvektor], [\"blue\", \"tab:green\"], alphalist=[0,1])\n",
        "\n",
        "    plt.figure(figsize=[7,7])\n",
        "    koordinatensystem.draw()\n",
        "    if not first:\n",
        "        gerade.draw(col=\"r\")\n",
        "        vec.draw()\n",
        "    plt.scatter(data[label==1,0], data[label==1,1])\n",
        "    plt.scatter(data[label==0,0], data[label==0,1])\n",
        "    plt.axis(\"equal\");plt.xlim([-size,size]);plt.ylim([-size,size]);plt.axis(\"off\")\n",
        "    plt.show()\n",
        "    #print(data)\n",
        "    if not first:\n",
        "        out = 1*((data@gewichtsvektor-theta)>=0)\n",
        "        acc = np.sum(out==label)/N\n",
        "        if acc==1:\n",
        "            print(f\"Sehr gut! Gewichtsvektor [{gewichtsvektor[0]},{gewichtsvektor[1]}] und  Schwellenwert {theta} sind korrekt!\")\n",
        "            return True\n",
        "        else:\n",
        "            print(f\"Das stimmt leider noch nicht... Gewichtsvektor [{gewichtsvektor[0]},{gewichtsvektor[1]}] und Schwellenwert {theta} sind nicht richtig. \\nDer Klassifikator hätte eine Genauigkeit von {acc*100}%, {int(N*(1-acc))} Punkte werden also falsch klassifiziert.\")\n",
        "            return False"
      ],
      "metadata": {
        "id": "znz-iHiTOOLy"
      },
      "execution_count": null,
      "outputs": []
    },
    {
      "cell_type": "code",
      "source": [
        "from IPython.display import clear_output\n",
        "import numpy as np\n",
        "# from utils import\n",
        "#from utils_linclass_07 import draw1, draw2"
      ],
      "metadata": {
        "id": "5EcUHCCDL3L6"
      },
      "execution_count": null,
      "outputs": []
    },
    {
      "cell_type": "markdown",
      "source": [
        "In diesem Notebook soll das erworbene Wissen aus Kapitel 7 angewendet werden.\n",
        "\n",
        "## Aufgabe 1 - Gerade durch zwei Punkte\n",
        "Gegeben sind zwei Punkte, durch die eine Gerade verlaufen soll. Die Gerade hat die Form $g(\\vec{x})=\\vec{w}\\odot\\vec{x}-\\theta$ mit Gewichtsvektor $\\vec{w}$ und Schwellenwert $\\theta$.\n",
        "\n",
        "Starten Sie den folgenden Codeblock und geben Sie einen Gewichtsvektor, sowie einen Schwellenwert ein. Ein Vektor wird hierbei komponentenweise mit Komma getrennt eingegeben. Der Vektor $\\vec{x}=[1,-1]$ wäre beispielsweise `1,-1`. Beim Threshold handelt es sich nur um eine einzelne Zahl. Zahlen mit Nachkommastellen müssen mit Punkt geschrieben werden (statt beispielsweise `-2,3` ist die Eingabe `-2.3`)."
      ],
      "metadata": {
        "id": "yknOyupBuRn2"
      }
    },
    {
      "cell_type": "code",
      "source": [
        "draw1(first=True)\n",
        "\n",
        "done = False\n",
        "while not done:\n",
        "    print(\"Geben Sie einen Gewichtsvektor ein. (Zum Beispiel 1,-1)\")\n",
        "    test = input(\"Gewichtsvektor: \")\n",
        "    gewichtsvektor = np.array([float(s) for s in test.split(\",\")])\n",
        "    print(\"Geben Sie einen Schwellenwert ein. (Zum Beispiel -0.5)\")\n",
        "    test = input(\"Schwellenwert: \")\n",
        "    theta = float(test)\n",
        "\n",
        "    clear_output()\n",
        "    done = draw1(gewichtsvektor, theta)\n"
      ],
      "metadata": {
        "id": "bQWMuQjguTab"
      },
      "execution_count": null,
      "outputs": []
    },
    {
      "cell_type": "markdown",
      "source": [
        "## Aufgabe 2: Punktewolken\n",
        "Genau wie in Aufgabe 1 soll hier eine Gerade in der Form $g(\\vec{x})=\\vec{w}\\odot\\vec{x}-\\theta$ mit Gewichtsvektor $\\vec{w}$ und Schwellenwert $\\theta$ aufgestellt werden. Gegeben werden zwei Punktewolken, die linear getrennt werden sollen. Die blaue Punktewolke soll die Klassenzugehörigkeit `+1` bekommen, die orangene Punktewolke erhält Klassenzugehörigkeit `-1`.\n",
        "\n",
        "Starten Sie den folgenden Codeblock und geben Sie einen Gewichtsvektor, sowie einen Schwellenwert ein. Ein Vektor wird hierbei komponentenweise mit Komma getrennt eingegeben. Der Vektor $\\vec{x}=[1,-1]$ wäre beispielsweise `1,-1`. Beim Threshold handelt es sich nur um eine einzelne Zahl. Zahlen mit Nachkommastellen müssen mit Punkt geschrieben werden (statt beispielsweise `-2,3` ist die Eingabe `-2.3`)."
      ],
      "metadata": {
        "id": "qL3yDnPOUbip"
      }
    },
    {
      "cell_type": "code",
      "source": [
        "draw2(first=True)\n",
        "\n",
        "done = False\n",
        "while not done:\n",
        "    print(\"Geben Sie einen Gewichtsvektor ein. (Zum Beispiel 1,-1)\")\n",
        "    test = input(\"Gewichtsvektor: \")\n",
        "    gewichtsvektor = np.array([float(s) for s in test.split(\",\")])\n",
        "    print(\"Geben Sie einen Schwellenwert ein. (Zum Beispiel -0.5)\")\n",
        "    test = input(\"Schwellenwert: \")\n",
        "    theta = float(test)\n",
        "\n",
        "    clear_output()\n",
        "    done = draw2(gewichtsvektor, theta)\n"
      ],
      "metadata": {
        "id": "XGcjTENQUasT"
      },
      "execution_count": null,
      "outputs": []
    }
  ]
}