{
  "nbformat": 4,
  "nbformat_minor": 0,
  "metadata": {
    "colab": {
      "provenance": [],
      "authorship_tag": "ABX9TyPIAxm4uG6tkhC1urONOI7t",
      "include_colab_link": true
    },
    "kernelspec": {
      "name": "python3",
      "display_name": "Python 3"
    },
    "language_info": {
      "name": "python"
    }
  },
  "cells": [
    {
      "cell_type": "markdown",
      "metadata": {
        "id": "view-in-github",
        "colab_type": "text"
      },
      "source": [
        "<a href=\"https://colab.research.google.com/github/ollihansen90/linclassifiers/blob/main/Futureskills/LinClass_08.ipynb\" target=\"_parent\"><img src=\"https://colab.research.google.com/assets/colab-badge.svg\" alt=\"Open In Colab\"/></a>"
      ]
    },
    {
      "cell_type": "markdown",
      "source": [
        "# Kapitel 8 - Perzeptron\n",
        "\n",
        "## Setup"
      ],
      "metadata": {
        "id": "QbPcHvliKy3j"
      }
    },
    {
      "cell_type": "code",
      "execution_count": null,
      "metadata": {
        "id": "TVW6vXBRKsiq"
      },
      "outputs": [],
      "source": [
        "# Todo: utils-Datei anlegen, die am Anfang geladen wird\n",
        "# utils_linclass.py\n",
        "import numpy as np\n",
        "import matplotlib.pyplot as plt\n",
        "import matplotlib.colors as mcolors\n",
        "\n",
        "from IPython.display import display\n",
        "from PIL import Image\n",
        "from IPython.display import Image as Image_\n",
        "\n",
        "class Koordinatensystem():\n",
        "    def __init__(self, config={}):\n",
        "        self.config = {\n",
        "            \"size\": 11,\n",
        "            \"grid_alpha\": 0.1,\n",
        "            }\n",
        "        self.config.update(config)\n",
        "\n",
        "    def draw(self):\n",
        "        size = self.config[\"size\"]\n",
        "        grid_alpha = self.config[\"grid_alpha\"]\n",
        "        plt.plot([0,0], [-size,size], \"k\")\n",
        "        plt.plot([-size,size], [0,0], \"k\")\n",
        "        for t in range(1,size):\n",
        "            plt.plot([t,t], [-size,size], \"k\", alpha=grid_alpha)\n",
        "            plt.plot([-t,-t], [-size,size], \"k\", alpha=grid_alpha)\n",
        "            plt.plot([-size,size], [t,t], \"k\", alpha=grid_alpha)\n",
        "            plt.plot([-size,size], [-t,-t], \"k\", alpha=grid_alpha)\n",
        "            if t%2==0:\n",
        "                plt.plot([t,t], [-0.1,0.1], \"k\")\n",
        "                plt.text(t,-0.5, str(t), {\"horizontalalignment\":\"center\", \"verticalalignment\":\"center\"})\n",
        "                plt.plot([-t,-t], [-0.1,0.1], \"k\")\n",
        "                plt.text(-t,-0.5, str(-t), {\"horizontalalignment\":\"center\", \"verticalalignment\":\"center\"})\n",
        "                plt.plot([-0.1,0.1], [t,t], \"k\")\n",
        "                plt.text(-0.4, -t, str(-t), {\"horizontalalignment\":\"right\", \"verticalalignment\":\"center\"})\n",
        "                plt.plot([-0.1,0.1], [-t,-t], \"k\")\n",
        "                plt.text(-0.4, t, str(t), {\"horizontalalignment\":\"right\", \"verticalalignment\":\"center\"})\n",
        "        plt.plot([-0.1,0,0.1], [size-0.2,size,(size-0.2)], \"k\")\n",
        "        plt.plot([(size-0.2),size,(size-0.2)], [-0.1,0,0.1], \"k\")\n",
        "        plt.plot([-0.1,0,0.1], [-(size-0.2),-size,-(size-0.2)], \"k\")\n",
        "        plt.plot([-(size-0.2),-size,-(size-0.2)], [-0.1,0,0.1], \"k\")\n",
        "        plt.text(-0.4, (size-0.2), \"y\", {\"horizontalalignment\":\"center\", \"verticalalignment\":\"center\"})\n",
        "        plt.text(size, -0.4, \"x\", {\"horizontalalignment\":\"center\", \"verticalalignment\":\"center\"})\n",
        "\n",
        "class Vektorfolge():\n",
        "    def __init__(self, veclist, colorlist=list(mcolors.TABLEAU_COLORS.keys()), alphalist=None):\n",
        "        self.veclist = veclist\n",
        "        self.colorlist = colorlist\n",
        "        self.alphalist = [1]*len(veclist) if alphalist==None else alphalist\n",
        "        self.config = {\"angles\":'xy', \"scale_units\":'xy', \"scale\":1, \"width\":0.005, \"zorder\":2}\n",
        "\n",
        "    def draw(self):\n",
        "        plt.quiver(0,0,*self.veclist[0],**self.config, color=self.colorlist[0], alpha=self.alphalist[0])\n",
        "        v = self.veclist[0].copy()\n",
        "        for i in range(1, len(self.veclist)):\n",
        "            plt.quiver(\n",
        "                *v,\n",
        "                *self.veclist[(i)],\n",
        "                **self.config,\n",
        "                color=self.colorlist[(i)%len(self.colorlist)],\n",
        "                alpha=self.alphalist[i]\n",
        "                )\n",
        "            v += self.veclist[i].copy()\n",
        "\n",
        "class Gerade():\n",
        "    def __init__(self, aufpunkt, richtung):\n",
        "        assert aufpunkt.shape==np.zeros(2).shape, \"Der Vektor für den Aufpunkt hat nicht die richtige Form.\"\n",
        "        assert richtung.shape==np.zeros(2).shape, \"Der Vektor für die Richtung hat nicht die richtige Form.\"\n",
        "        assert np.sum(np.abs(richtung))>0, \"Der Vektor darf nicht [0,0] sein.\"\n",
        "        self.aufpunkt = aufpunkt\n",
        "        self.richtung = richtung\n",
        "\n",
        "    def draw(self, col=\"tab:blue\"):\n",
        "        size = 11\n",
        "        ecke1 = self.aufpunkt.copy()\n",
        "        while np.max(np.abs(ecke1))<=size:\n",
        "            ecke1 += self.richtung\n",
        "        ecke2 = self.aufpunkt.copy()\n",
        "        while np.max(np.abs(ecke2))<=size:\n",
        "            ecke2 -= self.richtung\n",
        "        ecken = np.stack([ecke1, ecke2])\n",
        "        plt.plot(ecken[:,0], ecken[:,1], col)\n",
        "\n",
        "    def on_gerade(self, pt):\n",
        "        p = pt.copy().astype(float)\n",
        "        p -= self.aufpunkt\n",
        "        if np.sum(p**2)==0:\n",
        "            return True\n",
        "        p /= np.linalg.norm(p)\n",
        "        return np.abs((self.richtung/np.linalg.norm(self.richtung))@p)>1-1e-6\n",
        "\n",
        "def generate_data():\n",
        "    np.random.seed(1)\n",
        "\n",
        "    N = 100\n",
        "    data = 3*np.random.randn(N,2)\n",
        "    data[:N//2] += np.array([-4,6])\n",
        "    data[N//2:] += np.array([2,-8])\n",
        "    data = np.column_stack([data, -np.ones(N)])\n",
        "    label = np.array(N//2*[1]+N//2*[-1])\n",
        "\n",
        "    # Permutiere Daten\n",
        "    perm = np.random.permutation(len(label))\n",
        "    data = data[perm]\n",
        "    label = label[perm]\n",
        "\n",
        "    return data, label\n",
        "\n",
        "def show_vid(vid):\n",
        "    every = max((len(vid)//50, 1))\n",
        "    vid = np.stack(vid[::every])\n",
        "    vid = [Image.fromarray(img) for img in vid]\n",
        "    vid[0].save(\"array.gif\", save_all=True, append_images=vid[1:], duration=50, loop=0)\n",
        "\n",
        "    with open('/content/array.gif','rb') as f:\n",
        "        display(Image_(data=f.read(), format='gif'))"
      ]
    },
    {
      "cell_type": "code",
      "source": [
        "# Todo: utils-Datei anlegen, die am Anfang geladen wird\n",
        "# utils_linclass_08.py\n",
        "import numpy as np\n",
        "# from utils import Vektorfolge, Koordinatensystem, Gerade\n",
        "\n",
        "def draw(w, data, label):\n",
        "    size = 11\n",
        "    config = {\"size\": size}\n",
        "    koordinatensystem = Koordinatensystem(config)\n",
        "    gewichtsvektor = w[:2]\n",
        "    theta = w[-1]\n",
        "    if w[1]==0:\n",
        "        aufpunkt = np.array([(theta-gewichtsvektor[1])/gewichtsvektor[0],1])\n",
        "    else:\n",
        "        aufpunkt = np.array([1,(theta-gewichtsvektor[0])/gewichtsvektor[1]])\n",
        "    gerade = Gerade(aufpunkt, gewichtsvektor[::-1]*np.array([1,-1]))\n",
        "    vec = Vektorfolge([aufpunkt, gewichtsvektor], [\"blue\", \"tab:green\"], alphalist=[0,1])\n",
        "\n",
        "    fig = plt.figure(figsize=[7,7])\n",
        "    koordinatensystem.draw()\n",
        "    gerade.draw(col=\"r\")\n",
        "    vec.draw()\n",
        "    plt.scatter(data[label==1,0], data[label==1,1])\n",
        "    plt.scatter(data[label==-1,0], data[label==-1,1])\n",
        "    plt.axis(\"equal\");plt.xlim([-size,size]);plt.ylim([-size,size]);plt.axis(\"off\")\n",
        "    fig.canvas.draw()\n",
        "    image_flat = np.frombuffer(fig.canvas.tostring_rgb(), dtype='uint8')\n",
        "    image = image_flat.reshape(*reversed(fig.canvas.get_width_height()), 3)\n",
        "    plt.close()\n",
        "    return image\n"
      ],
      "metadata": {
        "id": "pYfZnWWxFlfu"
      },
      "execution_count": null,
      "outputs": []
    },
    {
      "cell_type": "code",
      "source": [
        "import numpy as np\n",
        "import matplotlib.pyplot as plt\n",
        "from tqdm.auto import trange"
      ],
      "metadata": {
        "id": "ZVN7wwH_9lp7"
      },
      "execution_count": null,
      "outputs": []
    },
    {
      "cell_type": "markdown",
      "source": [
        "In diesem Notebook soll der Lernschritt eines Perzeptrons implementiert werden. Wie im Video bereits erklärt, ist ein Perzeptron ein linearer Klassifizierer mit einer Aktivierungsfunktion, die für eine beliebige (reelle) Eingabe das Vorzeichen zurückgibt.\n",
        "\n",
        "## Daten generieren\n",
        "Die Daten werden genau wie die in Aufgabe 2 von Kapitel 7 generiert. Es handelt sich also um zwei Punktewolke, die sich linear trennen lassen. Die blauen Punkte haben Label `+1`, die orangenen Punkte haben Label `-1`. Beispielhaft wird ebenso eine Gerade eingezeichnet, die das Klassifikationsproblem (noch) nicht löst."
      ],
      "metadata": {
        "id": "ZHyqh08UkILO"
      }
    },
    {
      "cell_type": "code",
      "source": [
        "data, label = generate_data()\n",
        "w = np.array([1,1,-1])\n",
        "\n",
        "plt.figure(figsize=[7,7])\n",
        "plt.imshow(draw(w, data, label))\n",
        "plt.axis(\"off\")\n",
        "plt.show()"
      ],
      "metadata": {
        "id": "eBwNbKJDGyoM"
      },
      "execution_count": null,
      "outputs": []
    },
    {
      "cell_type": "markdown",
      "source": [
        "## Update-Schritt\n",
        "Wie im Video bereits erklärt, kann die Klassifikationsgerade schrittweise mit Hilfe der Perzeptron-Lernregel angepasst werden. Hierbei werden die Gewichte, angepasst mit dem Threshold-Trick (also erweitert um `-1`) folgendermaßen aktualisiert: $w_{t+1} = w_t+\\Delta w_t$ mit $\\Delta w_t= \\epsilon\\cdot(s^\\mu-y)\\cdot x$. Die einzelnen Parameter in der Formel haben folgende Bedeutung:\n",
        "- $\\epsilon$: Lernrate, im Code `lr`\n",
        "- $s^\\mu$: Ausgabe des Perzeptrons (also `+1` oder `-1`), im Code `out`\n",
        "- $y$: Label von Punkt $x$ (`+1` oder `-1`), im Code `label`\n",
        "- $x$: Punkt, der in das Perzeptron gegeben wird, im Code `data`.\n",
        "\n",
        "Da es sich bei `data` und `label` um lange Listen handelt, werden diese eintragsweise verarbeitet, indem ein Index durch die Liste läuft. Der `i`-te Eintrag wäre hier `data[i]`, bzw. `label[i]`.\n",
        "\n",
        "Die Aktivierungsfunktion, die das Vorzeichen einer Eingabe zurückgibt, wurde über eine `if`-Abfrage implementiert.\n",
        "\n",
        "Sind Label und Ausgabe des Perzeptrons gleich, so gibt es keine Veränderung der Gewichte, da $\\Delta w_t= \\epsilon\\cdot(1-1)\\cdot x=0$ bzw. $\\Delta w_t= \\epsilon\\cdot(-1-(-1))\\cdot x=0$ gilt."
      ],
      "metadata": {
        "id": "GrnpOSKV94m_"
      }
    },
    {
      "cell_type": "code",
      "source": [
        "datal, label = generate_data()\n",
        "\n",
        "# --- Gewichte und Lernrate anpassen ---\n",
        "w = np.array(\n",
        "        [4,-4,-1]\n",
        "    )\n",
        "lr = 0.001\n",
        "# -------------------------------------\n",
        "\n",
        "vid = [draw(w, data, label)]\n",
        "\n",
        "for i in trange(len(data)):\n",
        "    out = data[i]@w # Skalarprodukt des Datenpunktes mit dem Gewichtsvektor\n",
        "\n",
        "    # Vorzeichenfunktion\n",
        "    if out>=0:\n",
        "        out = 1\n",
        "    else:\n",
        "        out = -1\n",
        "\n",
        "    # Berechne Updateschritt\n",
        "    dw = lr*(label[i]-out)*data[i]\n",
        "    # Wende Updateschritt an\n",
        "    w = w+dw\n",
        "\n",
        "    # Überspringe alle Bilder, in denen sich nichts ändert\n",
        "    if out == label[i]:\n",
        "        continue\n",
        "    image = draw(w, data, label)\n",
        "    vid.append(image)\n",
        "\n",
        "show_vid(vid)"
      ],
      "metadata": {
        "id": "5rTEuSJPIWO9"
      },
      "execution_count": null,
      "outputs": []
    },
    {
      "cell_type": "markdown",
      "source": [
        "## Update über Mehrere Epochen\n",
        "Üblicherweise wird ein Perzeptron über mehrere Epochen trainiert, da das Klassifikationsproblem oftmals nach nur einer Epoche nicht gelöst ist. \"Epoche\" ist hier so definiert, dass jeder Datenpunkt einmal betrachtet wurde und entsprechend ein Updateschritt durchgeführt wurde.\n",
        "\n",
        "Die Funktion `update_epoch` führt den Updateschritt für eine Epoche durch, ohne die Abbildungen für jeden Updateschritt zu erstellen."
      ],
      "metadata": {
        "id": "wZW_xiVQLmIc"
      }
    },
    {
      "cell_type": "code",
      "source": [
        "def update_epoch(w, lr, data, label):\n",
        "    # Durchlaufe den Index jedes Datenpunktes\n",
        "    for i in range(len(data)):\n",
        "        out = data[i]@w # Skalarprodukt des Datenpunktes mit dem Gewichtsvektor\n",
        "\n",
        "        # Vorzeichenfunktion\n",
        "        if out>=0:\n",
        "            out = 1\n",
        "        else:\n",
        "            out = -1\n",
        "\n",
        "        # Berechne Updateschritt\n",
        "        dw = lr*(label[i]-out)*data[i]\n",
        "        # Wende Updateschritt an\n",
        "        w = w+dw\n",
        "    return w"
      ],
      "metadata": {
        "id": "IgMGa8xf_67x"
      },
      "execution_count": null,
      "outputs": []
    },
    {
      "cell_type": "markdown",
      "source": [
        "## Perzeptron-Training\n",
        "Im letzten Abschnitt soll nun alles zusammengesetzt werden: Ein Perzeptron wird definiert, das das gegebene Klassifikationsproblem nicht löst. Schrittweise werden die Gewichte jetzt so angepasst, dass ein Klassifikator entsteht, der die beiden Klassen korrekt voneinander trennt.\n",
        "\n",
        "Im unteren Abschnitt können Hyperparameter festgelegt werden. Diese Hyperparameter sind die *Lernrate* `lr`, eine *Toleranz* `tol`, sowie eine *maximale Anzahl an Schritten* `n_max`.\n",
        "\n",
        "Die Toleranz und die Maximalzahl an Schritten definieren eine Abbruchbedingung des Trainings. Nur in den seltensten Fällen gibt es Problemstellungen, die linear trennbar sind. Wie oben beobachtet werden konnte, gibt es Updateschritte, solange es noch falsche Klassifikationen gibt. Sind die Klassen nicht linear trennbar, so würde das Training ewig weitergeführt werden.\n",
        "\n",
        "Die einfachste Abbruchbedingung ist eine maximale Anzahl an Schritten. Sobald diese Zahl erreicht wird, soll das Training beendet werden. Hierbei ist es unerheblich, wie gut das Problem zu dem Zeitpunkt gelöst ist.\n",
        "\n",
        "Eine weitere Abbruchbedingung ist die Toleranz. Die Toleranz kann sehr unterschiedlich definiert sein. Im folgenden Codeblock ist sie so definiert, dass das Training abgebrochen wird, sobald sich die Gewichte von einer Epoche zur nächsten nicht mehr stark ändern."
      ],
      "metadata": {
        "id": "yOy1DIwUNT6F"
      }
    },
    {
      "cell_type": "code",
      "source": [
        "def run(lr,n_max=50, tol=1e-5):\n",
        "    # Generiere Daten\n",
        "    data, label = generate_data()\n",
        "\n",
        "    # Initialisiere Gewichte w\n",
        "    w = np.array([1,-1,1])\n",
        "\n",
        "    # Initialisiere Video mit dem Startbild\n",
        "    vid = [draw(w, data, label)]\n",
        "\n",
        "    # Training\n",
        "    for epoch in trange(n_max):\n",
        "        w_alt = w.copy()\n",
        "\n",
        "        # Update der Gewichte\n",
        "        w = update_epoch(w, lr, data, label)\n",
        "\n",
        "        # Einzeichnen der Punkte und des Perzeptrons\n",
        "        image = draw(w, data, label)\n",
        "        vid.append(image)\n",
        "\n",
        "        # Abbruch bei wenig Veränderung\n",
        "        if np.linalg.norm(w-w_alt)<tol:\n",
        "            break\n",
        "    show_vid(vid)\n",
        "\n",
        "# --- Hier können die Hyperparameter erstellt werden ---\n",
        "lernrate = 0.0001\n",
        "tol = 0.00001\n",
        "n_max = 50\n",
        "# ---------------------------------------------------------\n",
        "\n",
        "run(lr=lernrate, n_max=n_max, tol=tol)"
      ],
      "metadata": {
        "id": "EOg2Y1C_EqdG"
      },
      "execution_count": null,
      "outputs": []
    }
  ]
}