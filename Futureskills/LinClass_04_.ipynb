{
 "cells": [
  {
   "cell_type": "markdown",
   "metadata": {
    "colab_type": "text",
    "id": "view-in-github"
   },
   "source": [
    "<a href=\"https://colab.research.google.com/github/ollihansen90/linclassifiers/blob/main/Futureskills/LinClass_04_.ipynb\" target=\"_parent\"><img src=\"https://colab.research.google.com/assets/colab-badge.svg\" alt=\"Open In Colab\"/></a>"
   ]
  },
  {
   "cell_type": "markdown",
   "metadata": {
    "id": "IAPLIlIElSix"
   },
   "source": [
    "# Lineare Klassifizierer\n",
    "\n"
   ]
  },
  {
   "cell_type": "code",
   "execution_count": null,
   "metadata": {
    "id": "wUZ-gnO3V0vw"
   },
   "outputs": [],
   "source": [
    "# Dieser Block entfällt im Jupyter-Hub, weil die Daten schon auf dem Server liegt\n",
    "!wget -nc https://raw.githubusercontent.com/ollihansen90/linclassifiers/main/Futureskills/utils/utils.zip\n",
    "!unzip -qq utils.zip -d utils"
   ]
  },
  {
   "cell_type": "code",
   "execution_count": 1,
   "metadata": {
    "id": "PJqMFndGTjyl"
   },
   "outputs": [],
   "source": [
    "import numpy as np\n",
    "import matplotlib.pyplot as plt\n",
    "import matplotlib.colors as mcolors\n",
    "import time\n",
    "\n",
    "from IPython.display import clear_output\n",
    "from utils.utils import Koordinatensystem, Vektorfolge, Gerade"
   ]
  },
  {
   "cell_type": "markdown",
   "metadata": {
    "id": "h7rjtqzq1GEd"
   },
   "source": [
    "## Kapitel 4 - Gerade als Vielfaches eines Vektors\n",
    "In diesem Notebook geht es um Geraden die über Vektoren definiert werden.\n",
    "\n",
    "### Aufgabe 1: Ursprungsgeraden\n",
    "In der folgenden Aufgabe soll eine Ursprungsgerade abgelesen werden. Gegeben sind zwei Punkte `[2,3]` und `[-4,-6]`, durch die die Gerade verlaufen soll.\n",
    "\n",
    "Nach Ausführen des Codeblocks wird zunächst ein Koordinatensystem mit den beiden Punkten geplottet. In einem Textfeld darunter soll der Vektor angegeben werden, über den die Ursprungsgerade definiert wird, die durch die beiden Punkte verläuft.\n",
    "\n",
    "*Hinweis:* Es müssen lediglich die Koordinaten durch Komma getrennt angegeben werden! Der Punkt `[1.5,-2]` erfordert also die Eingabe `1.5,-2`."
   ]
  },
  {
   "cell_type": "code",
   "execution_count": null,
   "metadata": {
    "id": "QsyzTu_I0uc_",
    "scrolled": true
   },
   "outputs": [],
   "source": [
    "def draw(richtung=np.array([-1,1]), first=False):\n",
    "    data = np.array([[2,3],[-4,-6]])\n",
    "    size = 11\n",
    "    config = {\"size\": size}\n",
    "    koordinatensystem = Koordinatensystem(config)\n",
    "    vec = Vektorfolge([np.zeros(2), richtung], list(mcolors.TABLEAU_COLORS.keys())[2:0:-1])\n",
    "    gerade = Gerade(np.zeros(2), richtung)\n",
    "\n",
    "    plt.figure(figsize=[7,7])\n",
    "    koordinatensystem.draw()\n",
    "    if not first:\n",
    "        gerade.draw()\n",
    "        vec.draw()\n",
    "    plt.plot(data[:,0], data[:,1], \"ro\", markersize=5)\n",
    "    plt.axis(\"equal\");plt.xlim([-size,size]);plt.ylim([-size,size]);plt.axis(\"off\")\n",
    "    plt.show()\n",
    "    if not first:\n",
    "        if gerade.on_gerade(data[0]) and gerade.on_gerade(data[1]):\n",
    "            print(f\"Sehr gut! Der Richtungsvektor [{richtung[0]},{richtung[1]}] ist korrekt!\")\n",
    "            return True\n",
    "        else:\n",
    "            print(f\"Das stimmt leider noch nicht... Der Richtungsvektor [{richtung[0]},{richtung[1]}] ist nicht richtig.\")\n",
    "            return False\n",
    "\n",
    "draw(first=True)\n",
    "\n",
    "done = False\n",
    "while not done:\n",
    "    print(\"Geben Sie einen Richtungsvektor ein. (Zum Beispiel 1,-1)\")\n",
    "    time.sleep(0.5)\n",
    "    test = input(\"Richtungsvektor: \")\n",
    "    print(test)\n",
    "    richtung = np.array([float(s) for s in test.split(\",\")])\n",
    "    print(richtung)\n",
    "\n",
    "    clear_output()\n",
    "    done = draw(richtung)\n"
   ]
  },
  {
   "cell_type": "markdown",
   "metadata": {
    "id": "Ms7VxFA79nA4"
   },
   "source": [
    "## Aufgabe 2: Allgemeine Geraden\n",
    "Im Gegensatz zu Ursprungsgeraden verlaufen allgemeine Geraden nicht unbedingt durch den Ursprung `[0,0]`. Allgemeine Geraden entstehen, indem Ursprungsgeraden in eine bestimmte Richtung verschoben werden. In der Mathematik nennt man diese Verschiebung auch *affine Transformation*.\n",
    "\n",
    "In dieser Aufgabe soll eine allgemeine Gerade abgelesen werden. Gegeben werden zwei Punkte `[-4,2]` und `[2,-6]`, durch die die Gerade verlaufen soll. Gesucht sind ein Aufpunkt, sowie ein Richtungsvektor, über die die Gerade definiert wird.\n",
    "\n",
    "Wie in Aufgabe 1 wird nach Ausführen des Codeblocks zunächst ein Koordinatensystem mit den beiden Punkten geplottet. In den Textfeldern darunter sollen nun Vektoren angegeben werden, über den die Gerade definiert wird, die durch die beiden Punkte verläuft."
   ]
  },
  {
   "cell_type": "code",
   "execution_count": null,
   "metadata": {
    "id": "nqdRYKaSBlkp"
   },
   "outputs": [],
   "source": [
    "def draw(aufpunkt=np.zeros(2), richtung=np.array([-1,1]), first=False):\n",
    "    data = np.array([[-4,2],[2,-6]])\n",
    "\n",
    "    size = 11\n",
    "    config = {\"size\": size}\n",
    "    koordinatensystem = Koordinatensystem(config)\n",
    "    vec = Vektorfolge([aufpunkt, richtung], list(mcolors.TABLEAU_COLORS.keys())[2:0:-1])\n",
    "    gerade = Gerade(aufpunkt, richtung)\n",
    "\n",
    "    plt.figure(figsize=[7,7])\n",
    "    koordinatensystem.draw()\n",
    "    if not first:\n",
    "        gerade.draw()\n",
    "        vec.draw()\n",
    "    plt.plot(data[:,0], data[:,1], \"ro\", markersize=5)\n",
    "    plt.axis(\"equal\");plt.xlim([-size,size]);plt.ylim([-size,size]);plt.axis(\"off\")\n",
    "    plt.show()\n",
    "    #print(data)\n",
    "    if not first:\n",
    "        if gerade.on_gerade(data[0]) and gerade.on_gerade(data[1]):\n",
    "            print(f\"Sehr gut!  Aufpunkt [{aufpunkt[0]},{aufpunkt[1]}] und  Richtungsvektor [{richtung[0]},{richtung[1]}] sind korrekt!\")\n",
    "            return True\n",
    "        else:\n",
    "            print(f\"Das stimmt leider noch nicht... Aufpunkt [{aufpunkt[0]},{aufpunkt[1]}] und Richtungsvektor [{richtung[0]},{richtung[1]}] sind nicht richtig.\")\n",
    "            return False\n",
    "\n",
    "draw(first=True)\n",
    "\n",
    "done = False\n",
    "while not done:\n",
    "    print(\"Geben Sie einen Aufpunkt ein. (Zum Beispiel 1,-1)\")\n",
    "    time.sleep(0.5)\n",
    "    test = input(\"Aufpunkt: \")\n",
    "    aufpunkt = np.array([float(s) for s in test.split(\",\")])\n",
    "    print(\"Geben Sie einen Richtungsvektor ein. (Zum Beispiel 1,-1)\")\n",
    "    time.sleep(0.5)\n",
    "    test = input(\"Richtungsvektor: \")\n",
    "    richtung = np.array([float(s) for s in test.split(\",\")])\n",
    "\n",
    "    clear_output()\n",
    "    done = draw(aufpunkt, richtung)\n"
   ]
  }
 ],
 "metadata": {
  "colab": {
   "include_colab_link": true,
   "provenance": []
  },
  "kernelspec": {
   "display_name": "Python 3 (ipykernel)",
   "language": "python",
   "name": "python3"
  },
  "language_info": {
   "codemirror_mode": {
    "name": "ipython",
    "version": 3
   },
   "file_extension": ".py",
   "mimetype": "text/x-python",
   "name": "python",
   "nbconvert_exporter": "python",
   "pygments_lexer": "ipython3",
   "version": "3.12.7"
  }
 },
 "nbformat": 4,
 "nbformat_minor": 4
}
